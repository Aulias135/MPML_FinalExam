{
  "cells": [
    {
      "cell_type": "code",
      "execution_count": 2,
      "metadata": {
        "id": "DmZt9lNy_TjH"
      },
      "outputs": [],
      "source": [
        "import pandas as pd\n",
        "import numpy as np"
      ]
    },
    {
      "cell_type": "markdown",
      "metadata": {
        "id": "LPWnaR3sGI3j"
      },
      "source": [
        "# **1. Dataset Selection and Exploration**"
      ]
    },
    {
      "cell_type": "code",
      "execution_count": 3,
      "metadata": {
        "colab": {
          "base_uri": "https://localhost:8080/",
          "height": 310
        },
        "id": "0x8cMFQu_iZh",
        "outputId": "f2b99c5a-4f7e-4f67-c7d4-4fd8b5abf7d4"
      },
      "outputs": [
        {
          "data": {
            "text/html": [
              "<div>\n",
              "<style scoped>\n",
              "    .dataframe tbody tr th:only-of-type {\n",
              "        vertical-align: middle;\n",
              "    }\n",
              "\n",
              "    .dataframe tbody tr th {\n",
              "        vertical-align: top;\n",
              "    }\n",
              "\n",
              "    .dataframe thead th {\n",
              "        text-align: right;\n",
              "    }\n",
              "</style>\n",
              "<table border=\"1\" class=\"dataframe\">\n",
              "  <thead>\n",
              "    <tr style=\"text-align: right;\">\n",
              "      <th></th>\n",
              "      <th>Transaction ID</th>\n",
              "      <th>Timestamp</th>\n",
              "      <th>Sender Name</th>\n",
              "      <th>Sender UPI ID</th>\n",
              "      <th>Receiver Name</th>\n",
              "      <th>Receiver UPI ID</th>\n",
              "      <th>Amount (INR)</th>\n",
              "      <th>Status</th>\n",
              "    </tr>\n",
              "  </thead>\n",
              "  <tbody>\n",
              "    <tr>\n",
              "      <th>0</th>\n",
              "      <td>4d3db980-46cd-4158-a812-dcb77055d0d2</td>\n",
              "      <td>2024-06-22 04:06:38</td>\n",
              "      <td>Tiya Mall</td>\n",
              "      <td>4161803452@okaxis</td>\n",
              "      <td>Mohanlal Golla</td>\n",
              "      <td>7776849307@okybl</td>\n",
              "      <td>3907.34</td>\n",
              "      <td>FAILED</td>\n",
              "    </tr>\n",
              "    <tr>\n",
              "      <th>1</th>\n",
              "      <td>099ee548-2fc1-4811-bf92-559c467ca792</td>\n",
              "      <td>2024-06-19 06:04:49</td>\n",
              "      <td>Mohanlal Bakshi</td>\n",
              "      <td>8908837379@okaxis</td>\n",
              "      <td>Mehul Sankaran</td>\n",
              "      <td>7683454560@okaxis</td>\n",
              "      <td>8404.55</td>\n",
              "      <td>SUCCESS</td>\n",
              "    </tr>\n",
              "    <tr>\n",
              "      <th>2</th>\n",
              "      <td>d4c05732-6b1b-4bab-90b9-efe09d252b99</td>\n",
              "      <td>2024-06-04 04:56:09</td>\n",
              "      <td>Kismat Bora</td>\n",
              "      <td>4633654150@okybl</td>\n",
              "      <td>Diya Goel</td>\n",
              "      <td>2598130823@okicici</td>\n",
              "      <td>941.88</td>\n",
              "      <td>SUCCESS</td>\n",
              "    </tr>\n",
              "    <tr>\n",
              "      <th>3</th>\n",
              "      <td>e8df92ee-8b04-4133-af5a-5f412180c8ab</td>\n",
              "      <td>2024-06-09 09:56:07</td>\n",
              "      <td>Ayesha Korpal</td>\n",
              "      <td>7018842771@okhdfcbank</td>\n",
              "      <td>Rhea Kothari</td>\n",
              "      <td>2246623650@okaxis</td>\n",
              "      <td>8926.00</td>\n",
              "      <td>SUCCESS</td>\n",
              "    </tr>\n",
              "    <tr>\n",
              "      <th>4</th>\n",
              "      <td>e7d675d3-04f1-419c-a841-7a04662560b7</td>\n",
              "      <td>2024-06-25 08:38:19</td>\n",
              "      <td>Jivin Batta</td>\n",
              "      <td>1977143985@okybl</td>\n",
              "      <td>Baiju Issac</td>\n",
              "      <td>5245672729@okybl</td>\n",
              "      <td>2800.55</td>\n",
              "      <td>SUCCESS</td>\n",
              "    </tr>\n",
              "  </tbody>\n",
              "</table>\n",
              "</div>"
            ],
            "text/plain": [
              "                         Transaction ID            Timestamp      Sender Name  \\\n",
              "0  4d3db980-46cd-4158-a812-dcb77055d0d2  2024-06-22 04:06:38        Tiya Mall   \n",
              "1  099ee548-2fc1-4811-bf92-559c467ca792  2024-06-19 06:04:49  Mohanlal Bakshi   \n",
              "2  d4c05732-6b1b-4bab-90b9-efe09d252b99  2024-06-04 04:56:09      Kismat Bora   \n",
              "3  e8df92ee-8b04-4133-af5a-5f412180c8ab  2024-06-09 09:56:07    Ayesha Korpal   \n",
              "4  e7d675d3-04f1-419c-a841-7a04662560b7  2024-06-25 08:38:19      Jivin Batta   \n",
              "\n",
              "           Sender UPI ID   Receiver Name     Receiver UPI ID  Amount (INR)  \\\n",
              "0      4161803452@okaxis  Mohanlal Golla    7776849307@okybl       3907.34   \n",
              "1      8908837379@okaxis  Mehul Sankaran   7683454560@okaxis       8404.55   \n",
              "2       4633654150@okybl       Diya Goel  2598130823@okicici        941.88   \n",
              "3  7018842771@okhdfcbank    Rhea Kothari   2246623650@okaxis       8926.00   \n",
              "4       1977143985@okybl     Baiju Issac    5245672729@okybl       2800.55   \n",
              "\n",
              "    Status  \n",
              "0   FAILED  \n",
              "1  SUCCESS  \n",
              "2  SUCCESS  \n",
              "3  SUCCESS  \n",
              "4  SUCCESS  "
            ]
          },
          "execution_count": 3,
          "metadata": {},
          "output_type": "execute_result"
        }
      ],
      "source": [
        "# Read data transactions\n",
        "transaction = pd.read_csv('transactions.csv')\n",
        "transaction.head()"
      ]
    },
    {
      "cell_type": "code",
      "execution_count": 71,
      "metadata": {},
      "outputs": [
        {
          "name": "stdout",
          "output_type": "stream",
          "text": [
            "       Sender Name  Sender UPI ID  Receiver Name  Receiver UPI ID  \\\n",
            "count  1000.000000    1000.000000      1000.0000      1000.000000   \n",
            "mean    497.530000     499.500000       498.5410       499.500000   \n",
            "std     287.989349     288.819436       287.5981       288.819436   \n",
            "min       0.000000       0.000000         0.0000         0.000000   \n",
            "25%     248.750000     249.750000       249.7500       249.750000   \n",
            "50%     497.500000     499.500000       499.5000       499.500000   \n",
            "75%     746.250000     749.250000       747.2500       749.250000   \n",
            "max     996.000000     999.000000       995.0000       999.000000   \n",
            "\n",
            "       Amount (INR)       Status  \n",
            "count  1.000000e+03  1000.000000  \n",
            "mean  -2.842171e-17     0.502000  \n",
            "std    1.000500e+00     0.500246  \n",
            "min   -1.730648e+00     0.000000  \n",
            "25%   -8.625912e-01     0.000000  \n",
            "50%   -1.656934e-02     1.000000  \n",
            "75%    8.066761e-01     1.000000  \n",
            "max    1.738842e+00     1.000000  \n"
          ]
        }
      ],
      "source": [
        "# Statistik deskriptif\n",
        "print(transaction.describe())"
      ]
    },
    {
      "cell_type": "code",
      "execution_count": 72,
      "metadata": {},
      "outputs": [],
      "source": [
        "import matplotlib.pyplot as plt\n",
        "import seaborn as sns"
      ]
    },
    {
      "cell_type": "code",
      "execution_count": 73,
      "metadata": {},
      "outputs": [
        {
          "name": "stderr",
          "output_type": "stream",
          "text": [
            "c:\\Users\\Aspire 3\\anaconda3\\Lib\\site-packages\\seaborn\\_oldcore.py:1119: FutureWarning: use_inf_as_na option is deprecated and will be removed in a future version. Convert inf values to NaN before operating instead.\n",
            "  with pd.option_context('mode.use_inf_as_na', True):\n"
          ]
        },
        {
          "data": {
            "image/png": "[encoded data removed]",
            "text/plain": [
              "<Figure size 1000x600 with 1 Axes>"
            ]
          },
          "metadata": {},
          "output_type": "display_data"
        }
      ],
      "source": [
        "# Distribution of Amounts\n",
        "plt.figure(figsize=(10, 6))\n",
        "sns.histplot(transaction['Amount (INR)'], bins=30, kde=True)\n",
        "plt.title('Distribution of Transaction Amounts')\n",
        "plt.xlabel('Amount (INR)')\n",
        "plt.ylabel('Frequency')\n",
        "plt.show()"
      ]
    },
    {
      "cell_type": "code",
      "execution_count": 74,
      "metadata": {},
      "outputs": [
        {
          "data": {
            "image/png": "[encoded data removed]",
            "text/plain": [
              "<Figure size 800x800 with 1 Axes>"
            ]
          },
          "metadata": {},
          "output_type": "display_data"
        }
      ],
      "source": [
        "# Status Proportions\n",
        "status_counts = transaction['Status'].value_counts()\n",
        "\n",
        "plt.figure(figsize=(8, 8))\n",
        "plt.pie(status_counts, labels=status_counts.index, autopct='%1.1f%%', startangle=140)\n",
        "plt.title('Proportion of Transaction Statuses')\n",
        "plt.show()"
      ]
    },
    {
      "cell_type": "markdown",
      "metadata": {},
      "source": [
        "# **2. Prepocessing Data**"
      ]
    },
    {
      "cell_type": "code",
      "execution_count": 4,
      "metadata": {
        "colab": {
          "base_uri": "https://localhost:8080/"
        },
        "id": "H0upUlGp_7fS",
        "outputId": "3d52a90c-225e-4ebf-8cb2-769769fc6278"
      },
      "outputs": [
        {
          "name": "stdout",
          "output_type": "stream",
          "text": [
            "<class 'pandas.core.frame.DataFrame'>\n",
            "RangeIndex: 1000 entries, 0 to 999\n",
            "Data columns (total 8 columns):\n",
            " #   Column           Non-Null Count  Dtype  \n",
            "---  ------           --------------  -----  \n",
            " 0   Transaction ID   1000 non-null   object \n",
            " 1   Timestamp        1000 non-null   object \n",
            " 2   Sender Name      1000 non-null   object \n",
            " 3   Sender UPI ID    1000 non-null   object \n",
            " 4   Receiver Name    1000 non-null   object \n",
            " 5   Receiver UPI ID  1000 non-null   object \n",
            " 6   Amount (INR)     1000 non-null   float64\n",
            " 7   Status           1000 non-null   object \n",
            "dtypes: float64(1), object(7)\n",
            "memory usage: 62.6+ KB\n"
          ]
        }
      ],
      "source": [
        "# Check missing value\n",
        "transaction.info()"
      ]
    },
    {
      "cell_type": "code",
      "execution_count": 5,
      "metadata": {
        "colab": {
          "base_uri": "https://localhost:8080/"
        },
        "id": "nCxDy_2cxW4P",
        "outputId": "b3d4ccf9-bceb-4bf9-be40-db42642e34e3"
      },
      "outputs": [
        {
          "data": {
            "text/plain": [
              "Transaction ID     0\n",
              "Timestamp          0\n",
              "Sender Name        0\n",
              "Sender UPI ID      0\n",
              "Receiver Name      0\n",
              "Receiver UPI ID    0\n",
              "Amount (INR)       0\n",
              "Status             0\n",
              "dtype: int64"
            ]
          },
          "execution_count": 5,
          "metadata": {},
          "output_type": "execute_result"
        }
      ],
      "source": [
        "# Checking Null or Missing data\n",
        "transaction.isna().sum()"
      ]
    },
    {
      "cell_type": "code",
      "execution_count": 6,
      "metadata": {
        "id": "XZhJWkF2GQNv"
      },
      "outputs": [],
      "source": [
        "from sklearn.model_selection import train_test_split\n",
        "from sklearn.preprocessing import StandardScaler, LabelEncoder"
      ]
    },
    {
      "cell_type": "code",
      "execution_count": 7,
      "metadata": {
        "id": "GUr5TJ0QHZ4f"
      },
      "outputs": [],
      "source": [
        "# Encode categorical variables\n",
        "label_encoder = LabelEncoder()\n",
        "transaction['Sender Name'] = label_encoder.fit_transform(transaction['Sender Name'])\n",
        "transaction['Sender UPI ID'] = label_encoder.fit_transform(transaction['Sender UPI ID'])\n",
        "transaction['Receiver Name'] = label_encoder.fit_transform(transaction['Receiver Name'])\n",
        "transaction['Receiver UPI ID'] = label_encoder.fit_transform(transaction['Receiver UPI ID'])\n",
        "transaction['Status'] = label_encoder.fit_transform(transaction['Status'])"
      ]
    },
    {
      "cell_type": "code",
      "execution_count": 8,
      "metadata": {
        "id": "3TWbfbrWHqoA"
      },
      "outputs": [],
      "source": [
        "# Scale numerical features\n",
        "scaler = StandardScaler()\n",
        "transaction['Amount (INR)'] = scaler.fit_transform(transaction[['Amount (INR)']])"
      ]
    },
    {
      "cell_type": "code",
      "execution_count": 9,
      "metadata": {
        "id": "Z5GQydXcIpta"
      },
      "outputs": [],
      "source": [
        "# Drop the original Timestamp and Transaction ID column\n",
        "transaction.drop(columns=['Timestamp', 'Transaction ID'], inplace=True)"
      ]
    },
    {
      "cell_type": "code",
      "execution_count": 10,
      "metadata": {
        "colab": {
          "base_uri": "https://localhost:8080/",
          "height": 206
        },
        "id": "bHXMGMkGI40v",
        "outputId": "04c764b1-6f3a-43f7-e35a-39e7cb58dee9"
      },
      "outputs": [
        {
          "data": {
            "text/html": [
              "<div>\n",
              "<style scoped>\n",
              "    .dataframe tbody tr th:only-of-type {\n",
              "        vertical-align: middle;\n",
              "    }\n",
              "\n",
              "    .dataframe tbody tr th {\n",
              "        vertical-align: top;\n",
              "    }\n",
              "\n",
              "    .dataframe thead th {\n",
              "        text-align: right;\n",
              "    }\n",
              "</style>\n",
              "<table border=\"1\" class=\"dataframe\">\n",
              "  <thead>\n",
              "    <tr style=\"text-align: right;\">\n",
              "      <th></th>\n",
              "      <th>Sender Name</th>\n",
              "      <th>Sender UPI ID</th>\n",
              "      <th>Receiver Name</th>\n",
              "      <th>Receiver UPI ID</th>\n",
              "      <th>Amount (INR)</th>\n",
              "      <th>Status</th>\n",
              "    </tr>\n",
              "  </thead>\n",
              "  <tbody>\n",
              "    <tr>\n",
              "      <th>0</th>\n",
              "      <td>891</td>\n",
              "      <td>445</td>\n",
              "      <td>552</td>\n",
              "      <td>787</td>\n",
              "      <td>-0.380106</td>\n",
              "      <td>0</td>\n",
              "    </tr>\n",
              "    <tr>\n",
              "      <th>1</th>\n",
              "      <td>529</td>\n",
              "      <td>899</td>\n",
              "      <td>535</td>\n",
              "      <td>769</td>\n",
              "      <td>1.185749</td>\n",
              "      <td>1</td>\n",
              "    </tr>\n",
              "    <tr>\n",
              "      <th>2</th>\n",
              "      <td>448</td>\n",
              "      <td>490</td>\n",
              "      <td>239</td>\n",
              "      <td>252</td>\n",
              "      <td>-1.412631</td>\n",
              "      <td>1</td>\n",
              "    </tr>\n",
              "    <tr>\n",
              "      <th>3</th>\n",
              "      <td>131</td>\n",
              "      <td>709</td>\n",
              "      <td>711</td>\n",
              "      <td>208</td>\n",
              "      <td>1.367309</td>\n",
              "      <td>1</td>\n",
              "    </tr>\n",
              "    <tr>\n",
              "      <th>4</th>\n",
              "      <td>389</td>\n",
              "      <td>221</td>\n",
              "      <td>155</td>\n",
              "      <td>527</td>\n",
              "      <td>-0.765472</td>\n",
              "      <td>1</td>\n",
              "    </tr>\n",
              "  </tbody>\n",
              "</table>\n",
              "</div>"
            ],
            "text/plain": [
              "   Sender Name  Sender UPI ID  Receiver Name  Receiver UPI ID  Amount (INR)  \\\n",
              "0          891            445            552              787     -0.380106   \n",
              "1          529            899            535              769      1.185749   \n",
              "2          448            490            239              252     -1.412631   \n",
              "3          131            709            711              208      1.367309   \n",
              "4          389            221            155              527     -0.765472   \n",
              "\n",
              "   Status  \n",
              "0       0  \n",
              "1       1  \n",
              "2       1  \n",
              "3       1  \n",
              "4       1  "
            ]
          },
          "execution_count": 10,
          "metadata": {},
          "output_type": "execute_result"
        }
      ],
      "source": [
        "transaction.head()"
      ]
    },
    {
      "cell_type": "markdown",
      "metadata": {
        "id": "_679LQA6KNeu"
      },
      "source": [
        "# **3.  Model Training and Comparison**"
      ]
    },
    {
      "cell_type": "code",
      "execution_count": 15,
      "metadata": {
        "id": "GmEYVynRKKoD"
      },
      "outputs": [],
      "source": [
        "# Define features and target variable\n",
        "X = transaction.drop(columns=['Status'])\n",
        "y = transaction['Status']"
      ]
    },
    {
      "cell_type": "code",
      "execution_count": 16,
      "metadata": {
        "id": "GsFAZ38vKw6o"
      },
      "outputs": [],
      "source": [
        "# Split the data into training and testing sets\n",
        "X_train, X_test, y_train, y_test = train_test_split(X, y, test_size=0.3, random_state=42)"
      ]
    },
    {
      "cell_type": "code",
      "execution_count": 17,
      "metadata": {
        "colab": {
          "base_uri": "https://localhost:8080/",
          "height": 423
        },
        "id": "Q5QIzGXKMbBV",
        "outputId": "dabb519f-d57e-4f77-9244-8b1baa92f854"
      },
      "outputs": [
        {
          "data": {
            "text/html": [
              "<div>\n",
              "<style scoped>\n",
              "    .dataframe tbody tr th:only-of-type {\n",
              "        vertical-align: middle;\n",
              "    }\n",
              "\n",
              "    .dataframe tbody tr th {\n",
              "        vertical-align: top;\n",
              "    }\n",
              "\n",
              "    .dataframe thead th {\n",
              "        text-align: right;\n",
              "    }\n",
              "</style>\n",
              "<table border=\"1\" class=\"dataframe\">\n",
              "  <thead>\n",
              "    <tr style=\"text-align: right;\">\n",
              "      <th></th>\n",
              "      <th>Sender Name</th>\n",
              "      <th>Sender UPI ID</th>\n",
              "      <th>Receiver Name</th>\n",
              "      <th>Receiver UPI ID</th>\n",
              "      <th>Amount (INR)</th>\n",
              "    </tr>\n",
              "  </thead>\n",
              "  <tbody>\n",
              "    <tr>\n",
              "      <th>541</th>\n",
              "      <td>243</td>\n",
              "      <td>623</td>\n",
              "      <td>83</td>\n",
              "      <td>214</td>\n",
              "      <td>0.681628</td>\n",
              "    </tr>\n",
              "    <tr>\n",
              "      <th>440</th>\n",
              "      <td>410</td>\n",
              "      <td>812</td>\n",
              "      <td>346</td>\n",
              "      <td>636</td>\n",
              "      <td>0.086241</td>\n",
              "    </tr>\n",
              "    <tr>\n",
              "      <th>482</th>\n",
              "      <td>722</td>\n",
              "      <td>533</td>\n",
              "      <td>17</td>\n",
              "      <td>3</td>\n",
              "      <td>0.360568</td>\n",
              "    </tr>\n",
              "    <tr>\n",
              "      <th>422</th>\n",
              "      <td>444</td>\n",
              "      <td>220</td>\n",
              "      <td>955</td>\n",
              "      <td>987</td>\n",
              "      <td>-1.318402</td>\n",
              "    </tr>\n",
              "    <tr>\n",
              "      <th>778</th>\n",
              "      <td>536</td>\n",
              "      <td>556</td>\n",
              "      <td>798</td>\n",
              "      <td>65</td>\n",
              "      <td>0.097369</td>\n",
              "    </tr>\n",
              "    <tr>\n",
              "      <th>...</th>\n",
              "      <td>...</td>\n",
              "      <td>...</td>\n",
              "      <td>...</td>\n",
              "      <td>...</td>\n",
              "      <td>...</td>\n",
              "    </tr>\n",
              "    <tr>\n",
              "      <th>106</th>\n",
              "      <td>692</td>\n",
              "      <td>153</td>\n",
              "      <td>751</td>\n",
              "      <td>707</td>\n",
              "      <td>0.697474</td>\n",
              "    </tr>\n",
              "    <tr>\n",
              "      <th>270</th>\n",
              "      <td>105</td>\n",
              "      <td>36</td>\n",
              "      <td>528</td>\n",
              "      <td>55</td>\n",
              "      <td>1.474344</td>\n",
              "    </tr>\n",
              "    <tr>\n",
              "      <th>860</th>\n",
              "      <td>708</td>\n",
              "      <td>520</td>\n",
              "      <td>673</td>\n",
              "      <td>536</td>\n",
              "      <td>0.990686</td>\n",
              "    </tr>\n",
              "    <tr>\n",
              "      <th>435</th>\n",
              "      <td>47</td>\n",
              "      <td>257</td>\n",
              "      <td>470</td>\n",
              "      <td>410</td>\n",
              "      <td>-1.052498</td>\n",
              "    </tr>\n",
              "    <tr>\n",
              "      <th>102</th>\n",
              "      <td>231</td>\n",
              "      <td>894</td>\n",
              "      <td>402</td>\n",
              "      <td>886</td>\n",
              "      <td>-1.112392</td>\n",
              "    </tr>\n",
              "  </tbody>\n",
              "</table>\n",
              "<p>700 rows × 5 columns</p>\n",
              "</div>"
            ],
            "text/plain": [
              "     Sender Name  Sender UPI ID  Receiver Name  Receiver UPI ID  Amount (INR)\n",
              "541          243            623             83              214      0.681628\n",
              "440          410            812            346              636      0.086241\n",
              "482          722            533             17                3      0.360568\n",
              "422          444            220            955              987     -1.318402\n",
              "778          536            556            798               65      0.097369\n",
              "..           ...            ...            ...              ...           ...\n",
              "106          692            153            751              707      0.697474\n",
              "270          105             36            528               55      1.474344\n",
              "860          708            520            673              536      0.990686\n",
              "435           47            257            470              410     -1.052498\n",
              "102          231            894            402              886     -1.112392\n",
              "\n",
              "[700 rows x 5 columns]"
            ]
          },
          "execution_count": 17,
          "metadata": {},
          "output_type": "execute_result"
        }
      ],
      "source": [
        "X_train"
      ]
    },
    {
      "cell_type": "code",
      "execution_count": 18,
      "metadata": {
        "colab": {
          "base_uri": "https://localhost:8080/",
          "height": 423
        },
        "id": "VwhPw5_EMdrX",
        "outputId": "d9c5c3ec-ffc0-467c-fce6-d041d365d462"
      },
      "outputs": [
        {
          "data": {
            "text/html": [
              "<div>\n",
              "<style scoped>\n",
              "    .dataframe tbody tr th:only-of-type {\n",
              "        vertical-align: middle;\n",
              "    }\n",
              "\n",
              "    .dataframe tbody tr th {\n",
              "        vertical-align: top;\n",
              "    }\n",
              "\n",
              "    .dataframe thead th {\n",
              "        text-align: right;\n",
              "    }\n",
              "</style>\n",
              "<table border=\"1\" class=\"dataframe\">\n",
              "  <thead>\n",
              "    <tr style=\"text-align: right;\">\n",
              "      <th></th>\n",
              "      <th>Sender Name</th>\n",
              "      <th>Sender UPI ID</th>\n",
              "      <th>Receiver Name</th>\n",
              "      <th>Receiver UPI ID</th>\n",
              "      <th>Amount (INR)</th>\n",
              "    </tr>\n",
              "  </thead>\n",
              "  <tbody>\n",
              "    <tr>\n",
              "      <th>521</th>\n",
              "      <td>183</td>\n",
              "      <td>271</td>\n",
              "      <td>134</td>\n",
              "      <td>860</td>\n",
              "      <td>0.618359</td>\n",
              "    </tr>\n",
              "    <tr>\n",
              "      <th>737</th>\n",
              "      <td>695</td>\n",
              "      <td>63</td>\n",
              "      <td>98</td>\n",
              "      <td>541</td>\n",
              "      <td>-0.119292</td>\n",
              "    </tr>\n",
              "    <tr>\n",
              "      <th>740</th>\n",
              "      <td>130</td>\n",
              "      <td>820</td>\n",
              "      <td>542</td>\n",
              "      <td>503</td>\n",
              "      <td>0.449730</td>\n",
              "    </tr>\n",
              "    <tr>\n",
              "      <th>660</th>\n",
              "      <td>877</td>\n",
              "      <td>668</td>\n",
              "      <td>744</td>\n",
              "      <td>45</td>\n",
              "      <td>0.426486</td>\n",
              "    </tr>\n",
              "    <tr>\n",
              "      <th>411</th>\n",
              "      <td>667</td>\n",
              "      <td>787</td>\n",
              "      <td>106</td>\n",
              "      <td>372</td>\n",
              "      <td>0.266871</td>\n",
              "    </tr>\n",
              "    <tr>\n",
              "      <th>...</th>\n",
              "      <td>...</td>\n",
              "      <td>...</td>\n",
              "      <td>...</td>\n",
              "      <td>...</td>\n",
              "      <td>...</td>\n",
              "    </tr>\n",
              "    <tr>\n",
              "      <th>468</th>\n",
              "      <td>74</td>\n",
              "      <td>334</td>\n",
              "      <td>970</td>\n",
              "      <td>858</td>\n",
              "      <td>0.570581</td>\n",
              "    </tr>\n",
              "    <tr>\n",
              "      <th>935</th>\n",
              "      <td>676</td>\n",
              "      <td>307</td>\n",
              "      <td>872</td>\n",
              "      <td>450</td>\n",
              "      <td>1.614850</td>\n",
              "    </tr>\n",
              "    <tr>\n",
              "      <th>428</th>\n",
              "      <td>541</td>\n",
              "      <td>162</td>\n",
              "      <td>301</td>\n",
              "      <td>482</td>\n",
              "      <td>0.132570</td>\n",
              "    </tr>\n",
              "    <tr>\n",
              "      <th>7</th>\n",
              "      <td>785</td>\n",
              "      <td>830</td>\n",
              "      <td>885</td>\n",
              "      <td>950</td>\n",
              "      <td>-0.111040</td>\n",
              "    </tr>\n",
              "    <tr>\n",
              "      <th>155</th>\n",
              "      <td>746</td>\n",
              "      <td>398</td>\n",
              "      <td>398</td>\n",
              "      <td>762</td>\n",
              "      <td>0.568844</td>\n",
              "    </tr>\n",
              "  </tbody>\n",
              "</table>\n",
              "<p>300 rows × 5 columns</p>\n",
              "</div>"
            ],
            "text/plain": [
              "     Sender Name  Sender UPI ID  Receiver Name  Receiver UPI ID  Amount (INR)\n",
              "521          183            271            134              860      0.618359\n",
              "737          695             63             98              541     -0.119292\n",
              "740          130            820            542              503      0.449730\n",
              "660          877            668            744               45      0.426486\n",
              "411          667            787            106              372      0.266871\n",
              "..           ...            ...            ...              ...           ...\n",
              "468           74            334            970              858      0.570581\n",
              "935          676            307            872              450      1.614850\n",
              "428          541            162            301              482      0.132570\n",
              "7            785            830            885              950     -0.111040\n",
              "155          746            398            398              762      0.568844\n",
              "\n",
              "[300 rows x 5 columns]"
            ]
          },
          "execution_count": 18,
          "metadata": {},
          "output_type": "execute_result"
        }
      ],
      "source": [
        "X_test"
      ]
    },
    {
      "cell_type": "code",
      "execution_count": 19,
      "metadata": {
        "colab": {
          "base_uri": "https://localhost:8080/"
        },
        "id": "o5ewXs28Mfm8",
        "outputId": "cbefabc2-aebd-4268-fb70-0e252a37730d"
      },
      "outputs": [
        {
          "data": {
            "text/plain": [
              "541    0\n",
              "440    1\n",
              "482    0\n",
              "422    0\n",
              "778    1\n",
              "      ..\n",
              "106    1\n",
              "270    1\n",
              "860    1\n",
              "435    1\n",
              "102    0\n",
              "Name: Status, Length: 700, dtype: int32"
            ]
          },
          "execution_count": 19,
          "metadata": {},
          "output_type": "execute_result"
        }
      ],
      "source": [
        "y_train"
      ]
    },
    {
      "cell_type": "code",
      "execution_count": 20,
      "metadata": {
        "colab": {
          "base_uri": "https://localhost:8080/"
        },
        "id": "eVEzP-3DMhWe",
        "outputId": "6e542967-117c-4c3d-a449-44dcc0863d71"
      },
      "outputs": [
        {
          "data": {
            "text/plain": [
              "521    1\n",
              "737    0\n",
              "740    1\n",
              "660    1\n",
              "411    0\n",
              "      ..\n",
              "468    0\n",
              "935    0\n",
              "428    0\n",
              "7      0\n",
              "155    0\n",
              "Name: Status, Length: 300, dtype: int32"
            ]
          },
          "execution_count": 20,
          "metadata": {},
          "output_type": "execute_result"
        }
      ],
      "source": [
        "y_test"
      ]
    },
    {
      "cell_type": "markdown",
      "metadata": {
        "id": "hSpmyHMXNACX"
      },
      "source": [
        "# **Logistic Regression**"
      ]
    },
    {
      "cell_type": "code",
      "execution_count": 21,
      "metadata": {
        "id": "MOyw9hbz7pUl"
      },
      "outputs": [],
      "source": [
        "# Normalisasi fitur\n",
        "scaler = StandardScaler()\n",
        "x_train = scaler.fit_transform(X_train)\n",
        "x_test = scaler.transform(X_test)"
      ]
    },
    {
      "cell_type": "code",
      "execution_count": 22,
      "metadata": {
        "colab": {
          "base_uri": "https://localhost:8080/",
          "height": 74
        },
        "id": "Dg9dXk6GMjA_",
        "outputId": "1be51e93-57c3-4dfb-ba93-6713ce9cad83"
      },
      "outputs": [
        {
          "data": {
            "text/html": [
              "<style>#sk-container-id-1 {color: black;background-color: white;}#sk-container-id-1 pre{padding: 0;}#sk-container-id-1 div.sk-toggleable {background-color: white;}#sk-container-id-1 label.sk-toggleable__label {cursor: pointer;display: block;width: 100%;margin-bottom: 0;padding: 0.3em;box-sizing: border-box;text-align: center;}#sk-container-id-1 label.sk-toggleable__label-arrow:before {content: \"▸\";float: left;margin-right: 0.25em;color: #696969;}#sk-container-id-1 label.sk-toggleable__label-arrow:hover:before {color: black;}#sk-container-id-1 div.sk-estimator:hover label.sk-toggleable__label-arrow:before {color: black;}#sk-container-id-1 div.sk-toggleable__content {max-height: 0;max-width: 0;overflow: hidden;text-align: left;background-color: #f0f8ff;}#sk-container-id-1 div.sk-toggleable__content pre {margin: 0.2em;color: black;border-radius: 0.25em;background-color: #f0f8ff;}#sk-container-id-1 input.sk-toggleable__control:checked~div.sk-toggleable__content {max-height: 200px;max-width: 100%;overflow: auto;}#sk-container-id-1 input.sk-toggleable__control:checked~label.sk-toggleable__label-arrow:before {content: \"▾\";}#sk-container-id-1 div.sk-estimator input.sk-toggleable__control:checked~label.sk-toggleable__label {background-color: #d4ebff;}#sk-container-id-1 div.sk-label input.sk-toggleable__control:checked~label.sk-toggleable__label {background-color: #d4ebff;}#sk-container-id-1 input.sk-hidden--visually {border: 0;clip: rect(1px 1px 1px 1px);clip: rect(1px, 1px, 1px, 1px);height: 1px;margin: -1px;overflow: hidden;padding: 0;position: absolute;width: 1px;}#sk-container-id-1 div.sk-estimator {font-family: monospace;background-color: #f0f8ff;border: 1px dotted black;border-radius: 0.25em;box-sizing: border-box;margin-bottom: 0.5em;}#sk-container-id-1 div.sk-estimator:hover {background-color: #d4ebff;}#sk-container-id-1 div.sk-parallel-item::after {content: \"\";width: 100%;border-bottom: 1px solid gray;flex-grow: 1;}#sk-container-id-1 div.sk-label:hover label.sk-toggleable__label {background-color: #d4ebff;}#sk-container-id-1 div.sk-serial::before {content: \"\";position: absolute;border-left: 1px solid gray;box-sizing: border-box;top: 0;bottom: 0;left: 50%;z-index: 0;}#sk-container-id-1 div.sk-serial {display: flex;flex-direction: column;align-items: center;background-color: white;padding-right: 0.2em;padding-left: 0.2em;position: relative;}#sk-container-id-1 div.sk-item {position: relative;z-index: 1;}#sk-container-id-1 div.sk-parallel {display: flex;align-items: stretch;justify-content: center;background-color: white;position: relative;}#sk-container-id-1 div.sk-item::before, #sk-container-id-1 div.sk-parallel-item::before {content: \"\";position: absolute;border-left: 1px solid gray;box-sizing: border-box;top: 0;bottom: 0;left: 50%;z-index: -1;}#sk-container-id-1 div.sk-parallel-item {display: flex;flex-direction: column;z-index: 1;position: relative;background-color: white;}#sk-container-id-1 div.sk-parallel-item:first-child::after {align-self: flex-end;width: 50%;}#sk-container-id-1 div.sk-parallel-item:last-child::after {align-self: flex-start;width: 50%;}#sk-container-id-1 div.sk-parallel-item:only-child::after {width: 0;}#sk-container-id-1 div.sk-dashed-wrapped {border: 1px dashed gray;margin: 0 0.4em 0.5em 0.4em;box-sizing: border-box;padding-bottom: 0.4em;background-color: white;}#sk-container-id-1 div.sk-label label {font-family: monospace;font-weight: bold;display: inline-block;line-height: 1.2em;}#sk-container-id-1 div.sk-label-container {text-align: center;}#sk-container-id-1 div.sk-container {/* jupyter's `normalize.less` sets `[hidden] { display: none; }` but bootstrap.min.css set `[hidden] { display: none !important; }` so we also need the `!important` here to be able to override the default hidden behavior on the sphinx rendered scikit-learn.org. See: https://github.com/scikit-learn/scikit-learn/issues/21755 */display: inline-block !important;position: relative;}#sk-container-id-1 div.sk-text-repr-fallback {display: none;}</style><div id=\"sk-container-id-1\" class=\"sk-top-container\"><div class=\"sk-text-repr-fallback\"><pre>LogisticRegression()</pre><b>In a Jupyter environment, please rerun this cell to show the HTML representation or trust the notebook. <br />On GitHub, the HTML representation is unable to render, please try loading this page with nbviewer.org.</b></div><div class=\"sk-container\" hidden><div class=\"sk-item\"><div class=\"sk-estimator sk-toggleable\"><input class=\"sk-toggleable__control sk-hidden--visually\" id=\"sk-estimator-id-1\" type=\"checkbox\" checked><label for=\"sk-estimator-id-1\" class=\"sk-toggleable__label sk-toggleable__label-arrow\">LogisticRegression</label><div class=\"sk-toggleable__content\"><pre>LogisticRegression()</pre></div></div></div></div></div>"
            ],
            "text/plain": [
              "LogisticRegression()"
            ]
          },
          "execution_count": 22,
          "metadata": {},
          "output_type": "execute_result"
        }
      ],
      "source": [
        "from sklearn.linear_model import LogisticRegression\n",
        "from sklearn import metrics\n",
        "from sklearn.metrics import accuracy_score, classification_report, confusion_matrix\n",
        "\n",
        "\n",
        "# Train the model on the training set\n",
        "logreg = LogisticRegression()\n",
        "logreg.fit(X_train, y_train)"
      ]
    },
    {
      "cell_type": "code",
      "execution_count": 23,
      "metadata": {
        "colab": {
          "base_uri": "https://localhost:8080/"
        },
        "id": "OjH5dIi171LB",
        "outputId": "d0ac1368-f3df-4142-c8ba-8dd14a8d5774"
      },
      "outputs": [
        {
          "data": {
            "text/plain": [
              "array([0, 0, 1, 1, 1, 1, 1, 1, 0, 0, 1, 0, 1, 1, 1, 1, 1, 0, 1, 0, 1, 1,\n",
              "       0, 1, 1, 0, 0, 1, 0, 0, 0, 0, 1, 0, 1, 0, 0, 0, 0, 1, 0, 0, 0, 1,\n",
              "       0, 0, 1, 0, 0, 1, 0, 1, 0, 1, 0, 0, 0, 1, 0, 1, 1, 1, 0, 1, 0, 0,\n",
              "       0, 0, 1, 1, 0, 1, 0, 0, 0, 1, 0, 0, 0, 0, 0, 0, 1, 1, 1, 0, 0, 1,\n",
              "       0, 0, 0, 0, 0, 0, 0, 1, 1, 1, 0, 1, 0, 1, 1, 0, 0, 1, 0, 0, 1, 0,\n",
              "       1, 1, 1, 1, 0, 0, 0, 1, 1, 1, 0, 0, 1, 1, 0, 1, 1, 0, 1, 1, 0, 0,\n",
              "       1, 0, 0, 0, 1, 0, 0, 0, 1, 1, 1, 1, 0, 1, 0, 0, 1, 0, 0, 0, 1, 0,\n",
              "       1, 0, 0, 1, 1, 0, 0, 0, 0, 1, 1, 0, 0, 1, 0, 0, 1, 1, 1, 0, 1, 1,\n",
              "       1, 1, 1, 1, 0, 1, 0, 0, 0, 1, 0, 0, 0, 0, 1, 1, 0, 1, 1, 0, 0, 1,\n",
              "       0, 1, 1, 0, 0, 1, 0, 1, 1, 0, 1, 0, 0, 0, 0, 0, 1, 0, 1, 0, 1, 1,\n",
              "       1, 1, 1, 1, 1, 1, 0, 1, 0, 0, 1, 1, 1, 1, 0, 0, 1, 1, 0, 0, 1, 1,\n",
              "       1, 0, 1, 0, 0, 0, 0, 1, 1, 1, 0, 0, 0, 0, 0, 0, 0, 0, 1, 1, 1, 0,\n",
              "       0, 0, 1, 0, 1, 0, 1, 1, 0, 1, 0, 1, 0, 0, 0, 1, 0, 1, 1, 0, 0, 1,\n",
              "       1, 1, 0, 0, 0, 0, 1, 1, 0, 0, 0, 0, 0, 0])"
            ]
          },
          "execution_count": 23,
          "metadata": {},
          "output_type": "execute_result"
        }
      ],
      "source": [
        "# Instantiate the model (using the default parameters)\n",
        "logreg = LogisticRegression()\n",
        "\n",
        "# fit the model with data\n",
        "logreg.fit(x_test, y_test)\n",
        "\n",
        "# predict the response values for the observations in X\n",
        "logreg.predict(x_test)"
      ]
    },
    {
      "cell_type": "code",
      "execution_count": 24,
      "metadata": {
        "colab": {
          "base_uri": "https://localhost:8080/"
        },
        "id": "P5_U5oP-8L_D",
        "outputId": "97b81df4-db94-4445-c3d3-0f2bb3d959d1"
      },
      "outputs": [
        {
          "data": {
            "text/plain": [
              "300"
            ]
          },
          "execution_count": 24,
          "metadata": {},
          "output_type": "execute_result"
        }
      ],
      "source": [
        "# store the predicted response values\n",
        "y_pred_logreg = logreg.predict(x_test)\n",
        "\n",
        "# check how many predictions were generated\n",
        "len(y_pred_logreg)"
      ]
    },
    {
      "cell_type": "code",
      "execution_count": 25,
      "metadata": {
        "colab": {
          "base_uri": "https://localhost:8080/"
        },
        "id": "WIM_EtjuMCGi",
        "outputId": "56e14b8f-4b5e-4407-9383-b77a24bbae84"
      },
      "outputs": [
        {
          "name": "stdout",
          "output_type": "stream",
          "text": [
            "Logistic Regression Accuracy: 0.5366666666666666\n",
            "Classification Report:\n",
            "              precision    recall  f1-score   support\n",
            "\n",
            "           0       0.54      0.58      0.56       153\n",
            "           1       0.53      0.50      0.51       147\n",
            "\n",
            "    accuracy                           0.54       300\n",
            "   macro avg       0.54      0.54      0.54       300\n",
            "weighted avg       0.54      0.54      0.54       300\n",
            "\n",
            "Confusion Matrix:\n",
            "[[88 65]\n",
            " [74 73]]\n"
          ]
        }
      ],
      "source": [
        "# Evaluate the model\n",
        "accuracy = accuracy_score(y_test, y_pred_logreg)\n",
        "report = classification_report(y_test, y_pred_logreg)\n",
        "conf_matrix = confusion_matrix(y_test, y_pred_logreg)\n",
        "\n",
        "print(f'Logistic Regression Accuracy: {accuracy}')\n",
        "print('Classification Report:')\n",
        "print(report)\n",
        "print('Confusion Matrix:')\n",
        "print(conf_matrix)"
      ]
    },
    {
      "cell_type": "markdown",
      "metadata": {
        "id": "RGJFdg0WPQla"
      },
      "source": [
        "# **KNN**"
      ]
    },
    {
      "cell_type": "code",
      "execution_count": 26,
      "metadata": {
        "colab": {
          "base_uri": "https://localhost:8080/"
        },
        "id": "iPh_dWPIPGr1",
        "outputId": "8c3ac0fa-108e-4cf7-b281-1b9d4e9154b2"
      },
      "outputs": [
        {
          "name": "stdout",
          "output_type": "stream",
          "text": [
            "0.5\n"
          ]
        }
      ],
      "source": [
        "from sklearn.neighbors import KNeighborsClassifier\n",
        "\n",
        "knn = KNeighborsClassifier(n_neighbors=5)\n",
        "knn.fit(X_train, y_train)\n",
        "y_pred_knn = knn.predict(X_test)\n",
        "print(metrics.accuracy_score(y_test, y_pred_knn))"
      ]
    },
    {
      "cell_type": "code",
      "execution_count": 27,
      "metadata": {
        "colab": {
          "base_uri": "https://localhost:8080/"
        },
        "id": "l2h4PGxZMiL1",
        "outputId": "e19d96eb-9500-4a8c-8bdc-ef032ce1602c"
      },
      "outputs": [
        {
          "name": "stdout",
          "output_type": "stream",
          "text": [
            "KNN Accuracy: 0.5\n",
            "Classification Report:\n",
            "              precision    recall  f1-score   support\n",
            "\n",
            "           0       0.51      0.49      0.50       153\n",
            "           1       0.49      0.51      0.50       147\n",
            "\n",
            "    accuracy                           0.50       300\n",
            "   macro avg       0.50      0.50      0.50       300\n",
            "weighted avg       0.50      0.50      0.50       300\n",
            "\n",
            "Confusion Matrix:\n",
            "[[75 78]\n",
            " [72 75]]\n"
          ]
        }
      ],
      "source": [
        "# Evaluate the model\n",
        "accuracy = accuracy_score(y_test, y_pred_knn)\n",
        "report = classification_report(y_test, y_pred_knn)\n",
        "conf_matrix = confusion_matrix(y_test, y_pred_knn)\n",
        "\n",
        "print(f'KNN Accuracy: {accuracy}')\n",
        "print('Classification Report:')\n",
        "print(report)\n",
        "print('Confusion Matrix:')\n",
        "print(conf_matrix)"
      ]
    },
    {
      "cell_type": "code",
      "execution_count": 28,
      "metadata": {
        "colab": {
          "base_uri": "https://localhost:8080/"
        },
        "id": "hwodOptqxW4k",
        "outputId": "a010b6b8-6a7c-4474-a9f3-f158866716b4"
      },
      "outputs": [
        {
          "name": "stdout",
          "output_type": "stream",
          "text": [
            "Mean Absolute Error (MAE): 0.5\n",
            "Mean Squared Error (MSE): 0.5\n",
            "Root Mean Squared Error (RMSE): 0.7071067811865476\n",
            "R-squared (R²): -1.000800320128051\n"
          ]
        }
      ],
      "source": [
        "from sklearn.metrics import mean_absolute_error, mean_squared_error, r2_score\n",
        "\n",
        "# Evaluate the model using regression metrics\n",
        "mae = mean_absolute_error(y_test, y_pred_knn)\n",
        "mse = mean_squared_error(y_test, y_pred_knn)\n",
        "rmse = np.sqrt(mse)\n",
        "r2 = r2_score(y_test, y_pred_knn)\n",
        "\n",
        "# Print the evaluation metrics\n",
        "print(f'Mean Absolute Error (MAE): {mae}')\n",
        "print(f'Mean Squared Error (MSE): {mse}')\n",
        "print(f'Root Mean Squared Error (RMSE): {rmse}')\n",
        "print(f'R-squared (R²): {r2}')"
      ]
    },
    {
      "cell_type": "markdown",
      "metadata": {
        "id": "dbc7lEZv85Kf"
      },
      "source": [
        "# **SVM**"
      ]
    },
    {
      "cell_type": "code",
      "execution_count": 29,
      "metadata": {
        "id": "n__5M5DET6Ul"
      },
      "outputs": [],
      "source": [
        "import numpy as np\n",
        "import matplotlib.pyplot as plt\n",
        "from sklearn.svm import SVC\n",
        "from sklearn.metrics import classification_report, confusion_matrix\n",
        "from sklearn import svm\n",
        "from sklearn.model_selection import train_test_split\n",
        "from sklearn.preprocessing import StandardScaler\n",
        "from sklearn.metrics import mean_absolute_error, mean_squared_error, r2_score"
      ]
    },
    {
      "cell_type": "code",
      "execution_count": 30,
      "metadata": {
        "id": "Xdd62A99Ng9-"
      },
      "outputs": [],
      "source": [
        "# Standardize the features\n",
        "scaler = StandardScaler()\n",
        "X_train_scaled = scaler.fit_transform(X_train)\n",
        "X_test_scaled = scaler.transform(X_test)"
      ]
    },
    {
      "cell_type": "code",
      "execution_count": 31,
      "metadata": {
        "colab": {
          "base_uri": "https://localhost:8080/",
          "height": 74
        },
        "id": "Tu1F0_8sxW4q",
        "outputId": "099cf952-2a3b-4e13-b5d7-24c2cbbed899"
      },
      "outputs": [
        {
          "data": {
            "text/html": [
              "<style>#sk-container-id-2 {color: black;background-color: white;}#sk-container-id-2 pre{padding: 0;}#sk-container-id-2 div.sk-toggleable {background-color: white;}#sk-container-id-2 label.sk-toggleable__label {cursor: pointer;display: block;width: 100%;margin-bottom: 0;padding: 0.3em;box-sizing: border-box;text-align: center;}#sk-container-id-2 label.sk-toggleable__label-arrow:before {content: \"▸\";float: left;margin-right: 0.25em;color: #696969;}#sk-container-id-2 label.sk-toggleable__label-arrow:hover:before {color: black;}#sk-container-id-2 div.sk-estimator:hover label.sk-toggleable__label-arrow:before {color: black;}#sk-container-id-2 div.sk-toggleable__content {max-height: 0;max-width: 0;overflow: hidden;text-align: left;background-color: #f0f8ff;}#sk-container-id-2 div.sk-toggleable__content pre {margin: 0.2em;color: black;border-radius: 0.25em;background-color: #f0f8ff;}#sk-container-id-2 input.sk-toggleable__control:checked~div.sk-toggleable__content {max-height: 200px;max-width: 100%;overflow: auto;}#sk-container-id-2 input.sk-toggleable__control:checked~label.sk-toggleable__label-arrow:before {content: \"▾\";}#sk-container-id-2 div.sk-estimator input.sk-toggleable__control:checked~label.sk-toggleable__label {background-color: #d4ebff;}#sk-container-id-2 div.sk-label input.sk-toggleable__control:checked~label.sk-toggleable__label {background-color: #d4ebff;}#sk-container-id-2 input.sk-hidden--visually {border: 0;clip: rect(1px 1px 1px 1px);clip: rect(1px, 1px, 1px, 1px);height: 1px;margin: -1px;overflow: hidden;padding: 0;position: absolute;width: 1px;}#sk-container-id-2 div.sk-estimator {font-family: monospace;background-color: #f0f8ff;border: 1px dotted black;border-radius: 0.25em;box-sizing: border-box;margin-bottom: 0.5em;}#sk-container-id-2 div.sk-estimator:hover {background-color: #d4ebff;}#sk-container-id-2 div.sk-parallel-item::after {content: \"\";width: 100%;border-bottom: 1px solid gray;flex-grow: 1;}#sk-container-id-2 div.sk-label:hover label.sk-toggleable__label {background-color: #d4ebff;}#sk-container-id-2 div.sk-serial::before {content: \"\";position: absolute;border-left: 1px solid gray;box-sizing: border-box;top: 0;bottom: 0;left: 50%;z-index: 0;}#sk-container-id-2 div.sk-serial {display: flex;flex-direction: column;align-items: center;background-color: white;padding-right: 0.2em;padding-left: 0.2em;position: relative;}#sk-container-id-2 div.sk-item {position: relative;z-index: 1;}#sk-container-id-2 div.sk-parallel {display: flex;align-items: stretch;justify-content: center;background-color: white;position: relative;}#sk-container-id-2 div.sk-item::before, #sk-container-id-2 div.sk-parallel-item::before {content: \"\";position: absolute;border-left: 1px solid gray;box-sizing: border-box;top: 0;bottom: 0;left: 50%;z-index: -1;}#sk-container-id-2 div.sk-parallel-item {display: flex;flex-direction: column;z-index: 1;position: relative;background-color: white;}#sk-container-id-2 div.sk-parallel-item:first-child::after {align-self: flex-end;width: 50%;}#sk-container-id-2 div.sk-parallel-item:last-child::after {align-self: flex-start;width: 50%;}#sk-container-id-2 div.sk-parallel-item:only-child::after {width: 0;}#sk-container-id-2 div.sk-dashed-wrapped {border: 1px dashed gray;margin: 0 0.4em 0.5em 0.4em;box-sizing: border-box;padding-bottom: 0.4em;background-color: white;}#sk-container-id-2 div.sk-label label {font-family: monospace;font-weight: bold;display: inline-block;line-height: 1.2em;}#sk-container-id-2 div.sk-label-container {text-align: center;}#sk-container-id-2 div.sk-container {/* jupyter's `normalize.less` sets `[hidden] { display: none; }` but bootstrap.min.css set `[hidden] { display: none !important; }` so we also need the `!important` here to be able to override the default hidden behavior on the sphinx rendered scikit-learn.org. See: https://github.com/scikit-learn/scikit-learn/issues/21755 */display: inline-block !important;position: relative;}#sk-container-id-2 div.sk-text-repr-fallback {display: none;}</style><div id=\"sk-container-id-2\" class=\"sk-top-container\"><div class=\"sk-text-repr-fallback\"><pre>SVC(kernel=&#x27;linear&#x27;, probability=True)</pre><b>In a Jupyter environment, please rerun this cell to show the HTML representation or trust the notebook. <br />On GitHub, the HTML representation is unable to render, please try loading this page with nbviewer.org.</b></div><div class=\"sk-container\" hidden><div class=\"sk-item\"><div class=\"sk-estimator sk-toggleable\"><input class=\"sk-toggleable__control sk-hidden--visually\" id=\"sk-estimator-id-2\" type=\"checkbox\" checked><label for=\"sk-estimator-id-2\" class=\"sk-toggleable__label sk-toggleable__label-arrow\">SVC</label><div class=\"sk-toggleable__content\"><pre>SVC(kernel=&#x27;linear&#x27;, probability=True)</pre></div></div></div></div></div>"
            ],
            "text/plain": [
              "SVC(kernel='linear', probability=True)"
            ]
          },
          "execution_count": 31,
          "metadata": {},
          "output_type": "execute_result"
        }
      ],
      "source": [
        "# Train the SVM model\n",
        "svm_model = SVC(kernel='linear', probability=True)\n",
        "svm_model.fit(X_train_scaled, y_train)"
      ]
    },
    {
      "cell_type": "code",
      "execution_count": 32,
      "metadata": {
        "id": "MNA7fnvMxW4r"
      },
      "outputs": [],
      "source": [
        "# Make predictions\n",
        "y_pred_svm = svm_model.predict(X_test_scaled)"
      ]
    },
    {
      "cell_type": "code",
      "execution_count": 33,
      "metadata": {
        "colab": {
          "base_uri": "https://localhost:8080/"
        },
        "id": "zt7Wt88DxW4s",
        "outputId": "b65400f7-bf45-41c3-9460-825eb8fbfa42"
      },
      "outputs": [
        {
          "data": {
            "text/plain": [
              "array([1, 1, 0, 0, 0, 0, 0, 1, 0, 0, 1, 0, 1, 1, 0, 1, 1, 1, 0, 1, 0, 1,\n",
              "       0, 1, 0, 0, 1, 0, 1, 1, 1, 1, 1, 1, 1, 1, 0, 1, 0, 0, 0, 0, 0, 0,\n",
              "       0, 0, 0, 0, 0, 1, 1, 0, 1, 0, 1, 0, 0, 1, 0, 1, 0, 0, 1, 1, 1, 1,\n",
              "       1, 0, 0, 0, 0, 1, 0, 0, 1, 1, 1, 1, 1, 0, 0, 0, 1, 0, 0, 1, 1, 1,\n",
              "       0, 0, 0, 1, 1, 0, 1, 1, 0, 1, 1, 0, 1, 0, 1, 0, 0, 0, 1, 0, 1, 1,\n",
              "       1, 0, 1, 1, 0, 1, 1, 0, 1, 1, 0, 1, 0, 0, 1, 1, 1, 0, 1, 0, 0, 0,\n",
              "       0, 0, 1, 1, 0, 1, 1, 1, 1, 1, 1, 0, 1, 1, 0, 0, 1, 0, 1, 1, 0, 0,\n",
              "       1, 1, 0, 1, 0, 0, 1, 0, 0, 0, 0, 0, 1, 0, 1, 1, 0, 0, 0, 0, 0, 1,\n",
              "       0, 0, 0, 0, 1, 0, 0, 1, 1, 1, 0, 0, 0, 1, 1, 1, 0, 0, 1, 0, 0, 0,\n",
              "       0, 1, 0, 1, 1, 1, 1, 1, 0, 1, 0, 1, 0, 1, 1, 0, 0, 0, 1, 1, 1, 0,\n",
              "       1, 0, 1, 0, 0, 0, 1, 1, 1, 0, 1, 1, 0, 1, 0, 0, 1, 1, 1, 0, 0, 0,\n",
              "       0, 1, 0, 1, 1, 0, 1, 0, 1, 0, 1, 1, 0, 0, 1, 1, 1, 0, 1, 1, 0, 0,\n",
              "       0, 0, 1, 1, 1, 1, 1, 1, 1, 1, 1, 1, 0, 0, 1, 0, 0, 1, 0, 0, 1, 1,\n",
              "       1, 0, 0, 1, 1, 1, 0, 0, 1, 1, 1, 1, 0, 1])"
            ]
          },
          "execution_count": 33,
          "metadata": {},
          "output_type": "execute_result"
        }
      ],
      "source": [
        "y_pred_svm"
      ]
    },
    {
      "cell_type": "code",
      "execution_count": 34,
      "metadata": {
        "colab": {
          "base_uri": "https://localhost:8080/"
        },
        "id": "s9ElxVkIxW42",
        "outputId": "eb487799-8fde-4c4c-ecfa-1e26a550e262"
      },
      "outputs": [
        {
          "name": "stdout",
          "output_type": "stream",
          "text": [
            "SVM Accuracy: 0.49666666666666665\n",
            "Confusion Matrix:\n",
            "[[74 79]\n",
            " [72 75]]\n",
            "Classification Report:\n",
            "              precision    recall  f1-score   support\n",
            "\n",
            "           0       0.51      0.48      0.49       153\n",
            "           1       0.49      0.51      0.50       147\n",
            "\n",
            "    accuracy                           0.50       300\n",
            "   macro avg       0.50      0.50      0.50       300\n",
            "weighted avg       0.50      0.50      0.50       300\n",
            "\n"
          ]
        }
      ],
      "source": [
        "# Evaluate the model\n",
        "svm_accuracy = accuracy_score(y_test, y_pred_svm)\n",
        "conf_matrix = confusion_matrix(y_test, y_pred_svm)\n",
        "class_report = classification_report(y_test, y_pred_svm)\n",
        "\n",
        "print(f\"SVM Accuracy: {svm_accuracy}\")\n",
        "print(\"Confusion Matrix:\")\n",
        "print(conf_matrix)\n",
        "print(\"Classification Report:\")\n",
        "print(class_report)"
      ]
    },
    {
      "cell_type": "code",
      "execution_count": 35,
      "metadata": {
        "colab": {
          "base_uri": "https://localhost:8080/"
        },
        "id": "VYZP551kxW45",
        "outputId": "fe5e53d3-1cb5-43a5-e891-4a76591429c1"
      },
      "outputs": [
        {
          "name": "stdout",
          "output_type": "stream",
          "text": [
            "Mean Absolute Error (MAE): 0.5033333333333333\n",
            "Mean Squared Error (MSE): 0.5033333333333333\n",
            "Root Mean Squared Error (RMSE): 0.7094598884597587\n",
            "R-squared (R²): -1.014138988928905\n"
          ]
        }
      ],
      "source": [
        "# Evaluate the model using regression metrics\n",
        "mae = mean_absolute_error(y_test, y_pred_svm)\n",
        "mse = mean_squared_error(y_test, y_pred_svm)\n",
        "rmse = np.sqrt(mse)\n",
        "r2 = r2_score(y_test, y_pred_svm)\n",
        "\n",
        "# Print the evaluation metrics\n",
        "print(f'Mean Absolute Error (MAE): {mae}')\n",
        "print(f'Mean Squared Error (MSE): {mse}')\n",
        "print(f'Root Mean Squared Error (RMSE): {rmse}')\n",
        "print(f'R-squared (R²): {r2}')"
      ]
    },
    {
      "cell_type": "code",
      "execution_count": 36,
      "metadata": {
        "colab": {
          "base_uri": "https://localhost:8080/",
          "height": 564
        },
        "id": "rNiAYwR-xW47",
        "outputId": "42e715c3-9a94-4c63-d7a4-860a14e2df2e"
      },
      "outputs": [
        {
          "data": {
            "image/png": "[encoded data removed]",
            "text/plain": [
              "<Figure size 1000x600 with 1 Axes>"
            ]
          },
          "metadata": {},
          "output_type": "display_data"
        }
      ],
      "source": [
        "import numpy as np\n",
        "import matplotlib.pyplot as plt\n",
        "\n",
        "# Convert y_train to a NumPy array\n",
        "y_train_array = np.array(y_train)\n",
        "\n",
        "# Predict on the training data\n",
        "y_train_pred = svm_model.predict(X_train_scaled)\n",
        "\n",
        "# Plot predictions vs actual values\n",
        "plt.figure(figsize=(10, 6))\n",
        "plt.scatter(y_train_array, y_train_pred, color='blue', edgecolor='k', alpha=0.6)\n",
        "plt.plot([y_train_array.min(), y_train_array.max()], [y_train_array.min(), y_train_array.max()], 'k--', lw=2)\n",
        "plt.xlabel(\"Actual Status\")\n",
        "plt.ylabel(\"Predicted Status\")\n",
        "plt.title(\"Actual vs Predicted Status (Training Set)\")\n",
        "plt.show()"
      ]
    },
    {
      "cell_type": "markdown",
      "metadata": {},
      "source": [
        "**Define Models and Hyperparameters**"
      ]
    },
    {
      "cell_type": "code",
      "execution_count": 38,
      "metadata": {},
      "outputs": [],
      "source": [
        "from sklearn.model_selection import GridSearchCV"
      ]
    },
    {
      "cell_type": "code",
      "execution_count": 43,
      "metadata": {},
      "outputs": [],
      "source": [
        "# Logistic Regression\n",
        "# Define model and parameter grid for Logistic Regression\n",
        "logreg_model = LogisticRegression(max_iter=1000)\n",
        "logreg_param_grid = {'C': [0.1, 1, 10], 'solver': ['liblinear', 'saga']}"
      ]
    },
    {
      "cell_type": "code",
      "execution_count": 54,
      "metadata": {},
      "outputs": [],
      "source": [
        "# Define model and parameter grid for KNN\n",
        "knn_model = KNeighborsClassifier()\n",
        "knn_param_grid = {'n_neighbors': [3, 5, 7, 9], 'weights': ['uniform', 'distance']}"
      ]
    },
    {
      "cell_type": "code",
      "execution_count": 55,
      "metadata": {},
      "outputs": [],
      "source": [
        "# Define model and parameter grid for SVM\n",
        "svm_model = SVC()\n",
        "svm_param_grid = {'C': [0.1, 1, 10], 'kernel': ['linear', 'rbf']}"
      ]
    },
    {
      "cell_type": "markdown",
      "metadata": {
        "id": "NIU9OEJxxW48"
      },
      "source": [
        "**Hyperparameter Tuning and Cross-Validation**"
      ]
    },
    {
      "cell_type": "code",
      "execution_count": 44,
      "metadata": {
        "id": "BR98DZgpOjlg"
      },
      "outputs": [],
      "source": [
        "from sklearn.model_selection import cross_val_score"
      ]
    },
    {
      "cell_type": "code",
      "execution_count": 60,
      "metadata": {},
      "outputs": [],
      "source": [
        "# Logistic Regression\n",
        "logreg_grid_search = GridSearchCV(logreg, logreg_param_grid, cv=5, n_jobs=-1)\n",
        "logreg_grid_search.fit(X_train_scaled, y_train)\n",
        "logreg_best_model = logreg_grid_search.best_estimator_"
      ]
    },
    {
      "cell_type": "code",
      "execution_count": 61,
      "metadata": {
        "colab": {
          "base_uri": "https://localhost:8080/"
        },
        "id": "tKHoJV34xW5U",
        "outputId": "027eb7cd-b45e-473d-cb3a-4105e254e11c"
      },
      "outputs": [],
      "source": [
        "# KNN\n",
        "knn_grid_search = GridSearchCV(knn_model, knn_param_grid, cv=5, n_jobs=-1)\n",
        "knn_grid_search.fit(X_train_scaled, y_train)\n",
        "knn_best_model = knn_grid_search.best_estimator_"
      ]
    },
    {
      "cell_type": "code",
      "execution_count": 62,
      "metadata": {},
      "outputs": [],
      "source": [
        "# SVM\n",
        "svm_grid_search = GridSearchCV(svm_model, svm_param_grid, cv=5, n_jobs=-1)\n",
        "svm_grid_search.fit(X_train_scaled, y_train)\n",
        "svm_best_model = svm_grid_search.best_estimator_"
      ]
    },
    {
      "cell_type": "markdown",
      "metadata": {},
      "source": [
        "**Evaluate Model Hyperparameter Tuning and Cross-Validation**"
      ]
    },
    {
      "cell_type": "code",
      "execution_count": 63,
      "metadata": {},
      "outputs": [
        {
          "name": "stdout",
          "output_type": "stream",
          "text": [
            "Logistic Regression Classification Report:\n",
            "              precision    recall  f1-score   support\n",
            "\n",
            "           0       0.51      0.45      0.48       153\n",
            "           1       0.49      0.55      0.52       147\n",
            "\n",
            "    accuracy                           0.50       300\n",
            "   macro avg       0.50      0.50      0.50       300\n",
            "weighted avg       0.50      0.50      0.50       300\n",
            "\n",
            "Logistic Regression Accuracy: 0.5\n"
          ]
        }
      ],
      "source": [
        "# Logistic Regression Evaluation\n",
        "logreg_predictions = logreg_best_model.predict(X_test_scaled)\n",
        "print(\"Logistic Regression Classification Report:\")\n",
        "print(classification_report(y_test, logreg_predictions))\n",
        "print(\"Logistic Regression Accuracy:\", accuracy_score(y_test, logreg_predictions))"
      ]
    },
    {
      "cell_type": "code",
      "execution_count": 64,
      "metadata": {},
      "outputs": [
        {
          "name": "stdout",
          "output_type": "stream",
          "text": [
            "KNN Classification Report:\n",
            "              precision    recall  f1-score   support\n",
            "\n",
            "           0       0.49      0.45      0.47       153\n",
            "           1       0.47      0.52      0.50       147\n",
            "\n",
            "    accuracy                           0.48       300\n",
            "   macro avg       0.48      0.48      0.48       300\n",
            "weighted avg       0.48      0.48      0.48       300\n",
            "\n",
            "KNN Accuracy: 0.48333333333333334\n"
          ]
        }
      ],
      "source": [
        "# KNN Evaluation\n",
        "knn_predictions = knn_best_model.predict(X_test_scaled)\n",
        "print(\"KNN Classification Report:\")\n",
        "print(classification_report(y_test, knn_predictions))\n",
        "print(\"KNN Accuracy:\", accuracy_score(y_test, knn_predictions))"
      ]
    },
    {
      "cell_type": "code",
      "execution_count": 65,
      "metadata": {},
      "outputs": [
        {
          "name": "stdout",
          "output_type": "stream",
          "text": [
            "SVM Classification Report:\n",
            "              precision    recall  f1-score   support\n",
            "\n",
            "           0       0.50      0.47      0.48       153\n",
            "           1       0.48      0.50      0.49       147\n",
            "\n",
            "    accuracy                           0.49       300\n",
            "   macro avg       0.49      0.49      0.49       300\n",
            "weighted avg       0.49      0.49      0.49       300\n",
            "\n",
            "SVM Accuracy: 0.4866666666666667\n"
          ]
        }
      ],
      "source": [
        "# SVM Evaluation\n",
        "svm_predictions = svm_best_model.predict(X_test_scaled)\n",
        "print(\"SVM Classification Report:\")\n",
        "print(classification_report(y_test, svm_predictions))\n",
        "print(\"SVM Accuracy:\", accuracy_score(y_test, svm_predictions))"
      ]
    },
    {
      "cell_type": "code",
      "execution_count": 69,
      "metadata": {},
      "outputs": [
        {
          "name": "stdout",
          "output_type": "stream",
          "text": [
            "Logistic Regression Cross-Validation Scores: [0.46428571 0.50714286 0.53571429 0.55       0.57857143]\n",
            "KNN Cross-Validation Scores: [0.54285714 0.55714286 0.57857143 0.52142857 0.5       ]\n",
            "SVM Cross-Validation Scores: [0.55714286 0.6        0.59285714 0.57142857 0.52142857]\n"
          ]
        }
      ],
      "source": [
        "# Cross-validation scores for each model\n",
        "logreg_cv_scores = cross_val_score(logreg_best_model, X_train_scaled, y_train, cv=5)\n",
        "knn_cv_scores = cross_val_score(knn_best_model, X_train_scaled, y_train, cv=5)\n",
        "svm_cv_scores = cross_val_score(svm_best_model, X_train_scaled, y_train, cv=5)\n",
        "\n",
        "print(\"Logistic Regression Cross-Validation Scores:\", logreg_cv_scores)\n",
        "print(\"KNN Cross-Validation Scores:\", knn_cv_scores)\n",
        "print(\"SVM Cross-Validation Scores:\", svm_cv_scores)"
      ]
    },
    {
      "cell_type": "markdown",
      "metadata": {},
      "source": [
        "Model terbaik yang akan dipilih adalah model SVM, karena Model SVM memiliki performa terbaik dengan rata-rata cross-validation score tertinggi, yang menunjukkan bahwa hyperplane yang dipelajari SVM cenderung memisahkan kelas dengan lebih baik dibandingkan model lainnya."
      ]
    }
  ],
  "metadata": {
    "colab": {
      "provenance": []
    },
    "kernelspec": {
      "display_name": "Python 3",
      "name": "python3"
    },
    "language_info": {
      "codemirror_mode": {
        "name": "ipython",
        "version": 3
      },
      "file_extension": ".py",
      "mimetype": "text/x-python",
      "name": "python",
      "nbconvert_exporter": "python",
      "pygments_lexer": "ipython3",
      "version": "3.11.7"
    }
  },
  "nbformat": 4,
  "nbformat_minor": 0
}
